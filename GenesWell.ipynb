{
  "nbformat": 4,
  "nbformat_minor": 0,
  "metadata": {
    "colab": {
      "provenance": [],
      "authorship_tag": "ABX9TyMgEEfqsUz/bSBt+LgZNZmB",
      "include_colab_link": true
    },
    "kernelspec": {
      "name": "python3",
      "display_name": "Python 3"
    },
    "language_info": {
      "name": "python"
    }
  },
  "cells": [
    {
      "cell_type": "markdown",
      "metadata": {
        "id": "view-in-github",
        "colab_type": "text"
      },
      "source": [
        "<a href=\"https://colab.research.google.com/github/suumino/Ai/blob/main/GenesWell.ipynb\" target=\"_parent\"><img src=\"https://colab.research.google.com/assets/colab-badge.svg\" alt=\"Open In Colab\"/></a>"
      ]
    },
    {
      "cell_type": "markdown",
      "source": [
        "#**GenesWell BCT (유방암 예후예측)**\n",
        "- 환자들의 치료환경 개선을 위해 고안\n",
        "- 수술 후 예후 예측 -> 치료의 방향성 결정에 도움\n",
        "- 불필요한 항암화학치료를 줄임 -> 환자의 삶의 질 향상에 기여\n",
        "\n",
        "**검사대상**\\\n",
        "조기 유방암 환자 중 \n",
        "- 호르몬 수용체 양성(ER/PR+)\n",
        "- 인간표피증식인자 수용체 음성(HER2-)\n",
        "- 액와림프절 전이 3개 이하(pN0/1)\n",
        "\n",
        "수술 후 10년 내 타 장기 전이 및 재발 가능성과 항암화학치료의 효과 예측\n",
        "\n",
        "**검사과정**\n",
        "1. 유방암 환자의 암 조직에서 유전물질(RNA) 추출\n",
        "2. 예후 관련 유전자 발현량 측정\n",
        "3. 고유 예후예측 알고리즘 분석\n",
        "4. 위험군 분류 및 타 장기 전이 확률 정보 제공\n"
      ],
      "metadata": {
        "id": "J8avV2SyUing"
      }
    },
    {
      "cell_type": "markdown",
      "source": [],
      "metadata": {
        "id": "-Jnr2JkFUisy"
      }
    }
  ]
}