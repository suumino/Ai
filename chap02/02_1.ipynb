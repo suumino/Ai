{
 "cells": [
  {
   "cell_type": "code",
   "execution_count": 2,
   "metadata": {},
   "outputs": [
    {
     "name": "stdout",
     "output_type": "stream",
     "text": [
      "[[0, 0], [1, 0], [0, 1], [1, 1]] 의 예측 결과 :  [0 0 0 1]\n",
      "정답률 =  1.0\n"
     ]
    }
   ],
   "source": [
    "# and 연산\n",
    "\n",
    "from sklearn.svm import LinearSVC\n",
    "from sklearn.metrics import accuracy_score\n",
    "\n",
    "learn_data = [[0, 0], [1, 0], [0, 1], [1, 1]]\n",
    "learn_label = [0, 0, 0, 1]                         # and 연산 전용\n",
    "\n",
    "clf = LinearSVC()\n",
    "clf.fit(learn_data, learn_label)\n",
    "\n",
    "test_data = [[0, 0], [1, 0], [0, 1], [1, 1]]\n",
    "test_label = clf.predict(test_data)\n",
    "\n",
    "print(test_data, \"의 예측 결과 : \", test_label)\n",
    "print('정답률 = ', accuracy_score([0, 0, 0, 1], test_label))   # and"
   ]
  },
  {
   "cell_type": "code",
   "execution_count": 13,
   "metadata": {},
   "outputs": [
    {
     "name": "stdout",
     "output_type": "stream",
     "text": [
      "[[0, 0], [1, 0], [0, 1], [1, 1]] 의 예측 결과 :  [0 0 0 1]\n",
      "정답률 =  0.25\n"
     ]
    }
   ],
   "source": [
    "# or 연산\n",
    "\n",
    "from sklearn.svm import LinearSVC\n",
    "from sklearn.metrics import accuracy_score\n",
    "\n",
    "learn_data = [[0, 0], [1, 0], [0, 1], [1, 1]]\n",
    "learn_label = [0, 1, 1, 0]                          # or 연산 적용\n",
    "\n",
    "clf = LinearSVC()\n",
    "clf.fit(learn_data, learn_label)\n",
    "\n",
    "test_data = [[0, 0], [1, 0], [0, 1], [1, 1]]\n",
    "\n",
    "test_label = clf.predict(test_data)\n",
    "\n",
    "print(test_data, \"의 예측 결과 : \", test_label)\n",
    "print('정답률 = ', accuracy_score([0, 1, 1, 0], test_label))   # or"
   ]
  },
  {
   "cell_type": "code",
   "execution_count": 17,
   "metadata": {},
   "outputs": [
    {
     "name": "stdout",
     "output_type": "stream",
     "text": [
      "[[0, 0], [1, 0], [0, 1], [1, 1]] 의 예측 결과 :  [0 1 1 0]\n",
      "정답률 =  1.0\n"
     ]
    }
   ],
   "source": [
    "# 알고리즘 바꾸자\n",
    "\n",
    "from sklearn.neighbors import KNeighborsClassifier\n",
    "from sklearn.metrics import accuracy_score\n",
    "\n",
    "learn_data = [[0, 0], [1, 0], [0, 1], [1, 1]]\n",
    "learn_label = [0, 1, 1, 0]                          # or 연산 적용\n",
    "\n",
    "clf = KNeighborsClassifier(n_neighbors = 1)\n",
    "clf.fit(learn_data, learn_label)\n",
    "\n",
    "test_data = [[0, 0], [1, 0], [0, 1], [1, 1]]\n",
    "\n",
    "test_label = clf.predict(test_data)\n",
    "\n",
    "print(test_data, \"의 예측 결과 : \", test_label)\n",
    "print('정답률 = ', accuracy_score([0, 1, 1, 0], test_label))"
   ]
  },
  {
   "cell_type": "code",
   "execution_count": null,
   "metadata": {},
   "outputs": [],
   "source": []
  }
 ],
 "metadata": {
  "kernelspec": {
   "display_name": "Python 3",
   "language": "python",
   "name": "python3"
  },
  "language_info": {
   "codemirror_mode": {
    "name": "ipython",
    "version": 3
   },
   "file_extension": ".py",
   "mimetype": "text/x-python",
   "name": "python",
   "nbconvert_exporter": "python",
   "pygments_lexer": "ipython3",
   "version": "3.8.5"
  }
 },
 "nbformat": 4,
 "nbformat_minor": 4
}
